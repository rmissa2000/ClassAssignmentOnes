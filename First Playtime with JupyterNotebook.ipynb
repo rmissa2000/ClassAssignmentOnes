{
 "cells": [
  {
   "cell_type": "code",
   "execution_count": null,
   "id": "dc943206",
   "metadata": {
    "scrolled": true
   },
   "outputs": [],
   "source": [
    "print(\"practice coding in class\")"
   ]
  },
  {
   "cell_type": "code",
   "execution_count": null,
   "id": "640ad825",
   "metadata": {},
   "outputs": [],
   "source": [
    "# time. sleep pauses the execution for a specified number of seconds.\n",
    "import time\n",
    "time.sleep(4)"
   ]
  },
  {
   "cell_type": "code",
   "execution_count": null,
   "id": "6e10df02",
   "metadata": {},
   "outputs": [],
   "source": [
    "# creating a function, then formats it as specified. will not run in this line because we are creating it here. \n",
    "def say_hello(name):\n",
    "    return 'Hello, {}'.format(name)"
   ]
  },
  {
   "cell_type": "code",
   "execution_count": null,
   "id": "436cdf8a",
   "metadata": {},
   "outputs": [],
   "source": [
    "say_hello('Santiago')"
   ]
  },
  {
   "cell_type": "code",
   "execution_count": null,
   "id": "cfb8425a",
   "metadata": {},
   "outputs": [],
   "source": [
    "num1 = 10\n",
    "num2 = 7"
   ]
  },
  {
   "cell_type": "code",
   "execution_count": null,
   "id": "e194594e",
   "metadata": {},
   "outputs": [],
   "source": [
    "x = num1 - num2\n",
    "print(x)"
   ]
  },
  {
   "cell_type": "code",
   "execution_count": null,
   "id": "9ce8feed",
   "metadata": {},
   "outputs": [],
   "source": [
    "# to change the chunk to markdown, type Y. to change back to code, type Y. below, is a markdown for commenting and shit. "
   ]
  },
  {
   "cell_type": "markdown",
   "id": "c176ed5d",
   "metadata": {},
   "source": [
    "# This is heading one\n",
    "## this is heading \n",
    "**this is BOLD text** another way to do bold it: __this is also bold text__\n",
    "*this is ITALICS* \n",
    "you can also create lists:\n",
    "* item 1\n",
    "* item 2\n",
    "numeric lists:\n",
    "1. item one\n",
    "2. item two \n",
    "\n",
    "hyperlink: [this is a link to the BIC site!](https://bulldoginvestmentco.com/)"
   ]
  },
  {
   "cell_type": "code",
   "execution_count": null,
   "id": "f47fdc3d",
   "metadata": {},
   "outputs": [],
   "source": [
    "import numpy as np\n",
    "def square(x):\n",
    "    return x*x"
   ]
  },
  {
   "cell_type": "code",
   "execution_count": null,
   "id": "7702d563",
   "metadata": {},
   "outputs": [],
   "source": [
    "x = np.random.randint(1,100)\n",
    "y = square(x)\n",
    "print('%d squared is: %d' % (x,y))"
   ]
  },
  {
   "cell_type": "code",
   "execution_count": null,
   "id": "8fc665cb",
   "metadata": {},
   "outputs": [],
   "source": [
    "# xml is how we transfer data and read it into a notebook/webpage \n",
    "# html is a markup language"
   ]
  }
 ],
 "metadata": {
  "kernelspec": {
   "display_name": "Python 3 (ipykernel)",
   "language": "python",
   "name": "python3"
  },
  "language_info": {
   "codemirror_mode": {
    "name": "ipython",
    "version": 3
   },
   "file_extension": ".py",
   "mimetype": "text/x-python",
   "name": "python",
   "nbconvert_exporter": "python",
   "pygments_lexer": "ipython3",
   "version": "3.9.7"
  }
 },
 "nbformat": 4,
 "nbformat_minor": 5
}
